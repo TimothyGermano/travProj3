{
 "cells": [
  {
   "cell_type": "code",
   "execution_count": 4,
   "metadata": {},
   "outputs": [
    {
     "name": "stdout",
     "output_type": "stream",
     "text": [
      "             timestamp  unit_id     unit_type  location_x  location_y  \\\n",
      "0  2023-06-03 03:19:15   919214  tie_silencer         2.0         5.0   \n",
      "1  2023-02-24 13:50:40  9467154  stormtrooper         9.0         0.0   \n",
      "2  2023-03-29 19:54:55  6585778  tie_silencer         0.0         6.0   \n",
      "3  2023-04-30 00:58:11  3878023  tie_silencer         4.0         2.0   \n",
      "4  2023-04-10 22:00:26  5537117         at-st         6.0         8.0   \n",
      "\n",
      "   destination_x  destination_y    homeworld  \n",
      "0              9              3  Aleen Minor  \n",
      "1              9              1    Malastare  \n",
      "2              5              9      Serenno  \n",
      "3              9              9         Tund  \n",
      "4              5              8        Skako  \n",
      "<class 'pandas.core.frame.DataFrame'>\n",
      "RangeIndex: 1000000 entries, 0 to 999999\n",
      "Data columns (total 8 columns):\n",
      " #   Column         Non-Null Count    Dtype  \n",
      "---  ------         --------------    -----  \n",
      " 0   timestamp      1000000 non-null  object \n",
      " 1   unit_id        1000000 non-null  int64  \n",
      " 2   unit_type      1000000 non-null  object \n",
      " 3   location_x     999958 non-null   float64\n",
      " 4   location_y     999958 non-null   float64\n",
      " 5   destination_x  1000000 non-null  int64  \n",
      " 6   destination_y  1000000 non-null  int64  \n",
      " 7   homeworld      1000000 non-null  object \n",
      "dtypes: float64(2), int64(3), object(3)\n",
      "memory usage: 61.0+ MB\n",
      "None\n"
     ]
    }
   ],
   "source": [
    "import pandas as pd\n",
    "from matplotlib.pylab import f\n",
    "\n",
    "df = pd.read_csv('../troop_movements_1m.csv')\n",
    "\n",
    "print(df.head())\n",
    "print(df.info())"
   ]
  },
  {
   "cell_type": "code",
   "execution_count": 5,
   "metadata": {},
   "outputs": [],
   "source": [
    "df[['location_x', 'location_y']] = df[['location_x', 'location_y']].ffill()\n",
    "\n",
    "df['unit_type'] = df['unit_type'].replace('invalid_unit', 'unknown')\n",
    "\n",
    "df.drop_duplicates(inplace=True)\n"
   ]
  },
  {
   "cell_type": "code",
   "execution_count": 6,
   "metadata": {},
   "outputs": [],
   "source": [
    "df.to_csv('cleaned_troop_movements_1m.csv', index=False)\n",
    "\n",
    "df.to_parquet('troop_movements_1m.parquet', index=False)\n"
   ]
  },
  {
   "cell_type": "code",
   "execution_count": 7,
   "metadata": {},
   "outputs": [
    {
     "name": "stdout",
     "output_type": "stream",
     "text": [
      "             timestamp  unit_id     unit_type  location_x  location_y  \\\n",
      "0  2023-06-03 03:19:15   919214  tie_silencer         2.0         5.0   \n",
      "1  2023-02-24 13:50:40  9467154  stormtrooper         9.0         0.0   \n",
      "2  2023-03-29 19:54:55  6585778  tie_silencer         0.0         6.0   \n",
      "3  2023-04-30 00:58:11  3878023  tie_silencer         4.0         2.0   \n",
      "4  2023-04-10 22:00:26  5537117         at-st         6.0         8.0   \n",
      "\n",
      "   destination_x  destination_y    homeworld  \n",
      "0              9              3  Aleen Minor  \n",
      "1              9              1    Malastare  \n",
      "2              5              9      Serenno  \n",
      "3              9              9         Tund  \n",
      "4              5              8        Skako  \n"
     ]
    }
   ],
   "source": [
    "print(df.head())"
   ]
  }
 ],
 "metadata": {
  "kernelspec": {
   "display_name": "Python 3",
   "language": "python",
   "name": "python3"
  },
  "language_info": {
   "codemirror_mode": {
    "name": "ipython",
    "version": 3
   },
   "file_extension": ".py",
   "mimetype": "text/x-python",
   "name": "python",
   "nbconvert_exporter": "python",
   "pygments_lexer": "ipython3",
   "version": "3.12.3"
  }
 },
 "nbformat": 4,
 "nbformat_minor": 2
}
